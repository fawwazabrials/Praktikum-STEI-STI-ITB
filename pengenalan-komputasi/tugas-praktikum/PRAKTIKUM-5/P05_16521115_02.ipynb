{
 "cells": [
  {
   "cell_type": "code",
   "execution_count": 1,
   "source": [
    "# NIM/Nama  : 16521115/Fawwaz Abrial Saffa\r\n",
    "# Tanggal   : 29 November 2021"
   ],
   "outputs": [],
   "metadata": {}
  },
  {
   "cell_type": "code",
   "execution_count": 2,
   "source": [
    "import pandas as pd\r\n",
    "data = pd.read_csv('P05-01.csv')"
   ],
   "outputs": [],
   "metadata": {}
  },
  {
   "cell_type": "code",
   "execution_count": 6,
   "source": [
    "# 1. Ada berapa pengguna tidak aktif yang berusia di atas 50 tahun\r\n",
    "\r\n",
    "len(data[(data['Attrition_Flag'] == 'Attrited Customer') & (data['Customer_Age'] > 50)])"
   ],
   "outputs": [
    {
     "output_type": "execute_result",
     "data": {
      "text/plain": [
       "506"
      ]
     },
     "metadata": {},
     "execution_count": 6
    }
   ],
   "metadata": {}
  },
  {
   "cell_type": "code",
   "execution_count": 10,
   "source": [
    "# 2. ID pengguna dengan nominal limit kartu kredit terbesar.\r\n",
    "\r\n",
    "data.loc[data['Credit_Limit'].max() == data['Credit_Limit']]['CLIENTNUM']"
   ],
   "outputs": [
    {
     "output_type": "execute_result",
     "data": {
      "text/plain": [
       "6        810347208\n",
       "45       712661433\n",
       "61       712030833\n",
       "65       788979258\n",
       "70       715971108\n",
       "           ...    \n",
       "10088    709188108\n",
       "10095    789023508\n",
       "10098    716644008\n",
       "10110    718225683\n",
       "10112    708564858\n",
       "Name: CLIENTNUM, Length: 508, dtype: int64"
      ]
     },
     "metadata": {},
     "execution_count": 10
    }
   ],
   "metadata": {}
  },
  {
   "cell_type": "code",
   "execution_count": 12,
   "source": [
    "# 3. Ada berapa pengguna dengan tipe kartu Blue dan lama penggunaan kartu kredit dalam bulan di atas 40\r\n",
    "\r\n",
    "len(data[(data['Card_Category'] == 'Blue') & (data['Months_on_book'] > 40)])"
   ],
   "outputs": [
    {
     "output_type": "execute_result",
     "data": {
      "text/plain": [
       "2348"
      ]
     },
     "metadata": {},
     "execution_count": 12
    }
   ],
   "metadata": {}
  },
  {
   "cell_type": "code",
   "execution_count": 14,
   "source": [
    "# 4. Banyak pengguna dengan total nominal yang belum dibayar pengguna kartu kredit sama dengan 0 untuk masing0masing kategori penghasilan\r\n",
    "\r\n",
    "data[data['Total_Revolving_Bal'] == 0]['Income_Category'].value_counts()"
   ],
   "outputs": [
    {
     "output_type": "execute_result",
     "data": {
      "text/plain": [
       "Less than $40K    899\n",
       "$40K - $60K       420\n",
       "$80K - $120K      344\n",
       "$60K - $80K       340\n",
       "Unknown           303\n",
       "$120K +           164\n",
       "Name: Income_Category, dtype: int64"
      ]
     },
     "metadata": {},
     "execution_count": 14
    }
   ],
   "metadata": {}
  },
  {
   "cell_type": "code",
   "execution_count": 17,
   "source": [
    "# 5. 5 ID pengguna aktif dengan banyak bulan kartu kredit tidak aktif dalam 12 bulan terakhir terbanyak\r\n",
    "\r\n",
    "data[data['Attrition_Flag'] == 'Existing Customer'].sort_values('Months_Inactive_12_mon', ascending=False)['CLIENTNUM'][0:5]"
   ],
   "outputs": [
    {
     "output_type": "execute_result",
     "data": {
      "text/plain": [
       "3220    709381383\n",
       "7589    710542983\n",
       "2060    789607983\n",
       "749     711668283\n",
       "6023    710864358\n",
       "Name: CLIENTNUM, dtype: int64"
      ]
     },
     "metadata": {},
     "execution_count": 17
    }
   ],
   "metadata": {}
  }
 ],
 "metadata": {
  "orig_nbformat": 4,
  "language_info": {
   "name": "python",
   "version": "3.8.8",
   "mimetype": "text/x-python",
   "codemirror_mode": {
    "name": "ipython",
    "version": 3
   },
   "pygments_lexer": "ipython3",
   "nbconvert_exporter": "python",
   "file_extension": ".py"
  },
  "kernelspec": {
   "name": "python3",
   "display_name": "Python 3.8.8 64-bit ('base': conda)"
  },
  "interpreter": {
   "hash": "b3ba2566441a7c06988d0923437866b63cedc61552a5af99d1f4fb67d367b25f"
  }
 },
 "nbformat": 4,
 "nbformat_minor": 2
}