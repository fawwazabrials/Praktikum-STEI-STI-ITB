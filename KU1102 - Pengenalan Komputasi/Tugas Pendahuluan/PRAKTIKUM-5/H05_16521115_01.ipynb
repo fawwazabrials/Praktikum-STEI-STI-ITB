{
 "cells": [
  {
   "cell_type": "code",
   "execution_count": 1,
   "source": [
    "import pandas as pd\r\n",
    "data = pd.read_csv('H05.csv')"
   ],
   "outputs": [],
   "metadata": {}
  },
  {
   "cell_type": "code",
   "execution_count": 2,
   "source": [
    "# 1. Banyaknya data\r\n",
    "len(data)"
   ],
   "outputs": [
    {
     "output_type": "execute_result",
     "data": {
      "text/plain": [
       "5135"
      ]
     },
     "metadata": {},
     "execution_count": 2
    }
   ],
   "metadata": {}
  },
  {
   "cell_type": "code",
   "execution_count": 3,
   "source": [
    "# 2. 10 data pertama\r\n",
    "data[0:10]"
   ],
   "outputs": [
    {
     "output_type": "execute_result",
     "data": {
      "text/plain": [
       "                             nama fakultas  nilai_mat  nilai_kim  nilai_fis\n",
       "0            Farhan Fathur Rahman    FMIPA      57.21      34.14      38.93\n",
       "1                  Steven Margono    FMIPA      67.43      51.50      57.20\n",
       "2                    Ryan Sentosa    SAPPK      90.62      37.38      40.73\n",
       "3            Muhajah Babny Muslim    FMIPA      72.31      38.80      44.79\n",
       "4                Alvin Natawiguna     FTSL      65.45      57.67      56.39\n",
       "5                   Sasti Safitri     FTSL      60.58      41.91      51.55\n",
       "6             Dani Yulianto Putra     FTSL      51.67      35.05      48.69\n",
       "7  Nabila Febitsukarizky Bunyamin     FTTM      71.66      67.61      69.75\n",
       "8             Ratna Siti Khodijah      FTI      73.06      59.16      59.48\n",
       "9                    Gita Partiwi     FTSL      69.57      38.84      48.17"
      ],
      "text/html": [
       "<div>\n",
       "<style scoped>\n",
       "    .dataframe tbody tr th:only-of-type {\n",
       "        vertical-align: middle;\n",
       "    }\n",
       "\n",
       "    .dataframe tbody tr th {\n",
       "        vertical-align: top;\n",
       "    }\n",
       "\n",
       "    .dataframe thead th {\n",
       "        text-align: right;\n",
       "    }\n",
       "</style>\n",
       "<table border=\"1\" class=\"dataframe\">\n",
       "  <thead>\n",
       "    <tr style=\"text-align: right;\">\n",
       "      <th></th>\n",
       "      <th>nama</th>\n",
       "      <th>fakultas</th>\n",
       "      <th>nilai_mat</th>\n",
       "      <th>nilai_kim</th>\n",
       "      <th>nilai_fis</th>\n",
       "    </tr>\n",
       "  </thead>\n",
       "  <tbody>\n",
       "    <tr>\n",
       "      <th>0</th>\n",
       "      <td>Farhan Fathur Rahman</td>\n",
       "      <td>FMIPA</td>\n",
       "      <td>57.21</td>\n",
       "      <td>34.14</td>\n",
       "      <td>38.93</td>\n",
       "    </tr>\n",
       "    <tr>\n",
       "      <th>1</th>\n",
       "      <td>Steven Margono</td>\n",
       "      <td>FMIPA</td>\n",
       "      <td>67.43</td>\n",
       "      <td>51.50</td>\n",
       "      <td>57.20</td>\n",
       "    </tr>\n",
       "    <tr>\n",
       "      <th>2</th>\n",
       "      <td>Ryan Sentosa</td>\n",
       "      <td>SAPPK</td>\n",
       "      <td>90.62</td>\n",
       "      <td>37.38</td>\n",
       "      <td>40.73</td>\n",
       "    </tr>\n",
       "    <tr>\n",
       "      <th>3</th>\n",
       "      <td>Muhajah Babny Muslim</td>\n",
       "      <td>FMIPA</td>\n",
       "      <td>72.31</td>\n",
       "      <td>38.80</td>\n",
       "      <td>44.79</td>\n",
       "    </tr>\n",
       "    <tr>\n",
       "      <th>4</th>\n",
       "      <td>Alvin Natawiguna</td>\n",
       "      <td>FTSL</td>\n",
       "      <td>65.45</td>\n",
       "      <td>57.67</td>\n",
       "      <td>56.39</td>\n",
       "    </tr>\n",
       "    <tr>\n",
       "      <th>5</th>\n",
       "      <td>Sasti Safitri</td>\n",
       "      <td>FTSL</td>\n",
       "      <td>60.58</td>\n",
       "      <td>41.91</td>\n",
       "      <td>51.55</td>\n",
       "    </tr>\n",
       "    <tr>\n",
       "      <th>6</th>\n",
       "      <td>Dani Yulianto Putra</td>\n",
       "      <td>FTSL</td>\n",
       "      <td>51.67</td>\n",
       "      <td>35.05</td>\n",
       "      <td>48.69</td>\n",
       "    </tr>\n",
       "    <tr>\n",
       "      <th>7</th>\n",
       "      <td>Nabila Febitsukarizky Bunyamin</td>\n",
       "      <td>FTTM</td>\n",
       "      <td>71.66</td>\n",
       "      <td>67.61</td>\n",
       "      <td>69.75</td>\n",
       "    </tr>\n",
       "    <tr>\n",
       "      <th>8</th>\n",
       "      <td>Ratna Siti Khodijah</td>\n",
       "      <td>FTI</td>\n",
       "      <td>73.06</td>\n",
       "      <td>59.16</td>\n",
       "      <td>59.48</td>\n",
       "    </tr>\n",
       "    <tr>\n",
       "      <th>9</th>\n",
       "      <td>Gita Partiwi</td>\n",
       "      <td>FTSL</td>\n",
       "      <td>69.57</td>\n",
       "      <td>38.84</td>\n",
       "      <td>48.17</td>\n",
       "    </tr>\n",
       "  </tbody>\n",
       "</table>\n",
       "</div>"
      ]
     },
     "metadata": {},
     "execution_count": 3
    }
   ],
   "metadata": {}
  },
  {
   "cell_type": "code",
   "execution_count": 4,
   "source": [
    "# 3 Data ke 50 sampai 60 (inklusif)\r\n",
    "data[49:60]"
   ],
   "outputs": [
    {
     "output_type": "execute_result",
     "data": {
      "text/plain": [
       "                        nama fakultas  nilai_mat  nilai_kim  nilai_fis\n",
       "49      Alief Rizky Ramadhan    SITHS      84.59      42.44      40.48\n",
       "50      Arief Syakur Sutedjo     FTTM      84.40      61.21      73.91\n",
       "51         Fayi Raihan Saleh    FMIPA      60.62      32.57      42.34\n",
       "52          Erna Kristiawati      FTI      67.48      46.78      52.30\n",
       "53                    Albert    SAPPK      70.27      50.10      54.01\n",
       "54  M Jazztyan Indra Pradana     STEI      53.40      43.06      60.30\n",
       "55      Moch Ginanjar Busiri    FMIPA      74.29      38.44      49.15\n",
       "56              Aisya Tamara     FITB      71.49      35.86      37.41\n",
       "57        Tyas Arum Widayati    SAPPK      68.57      37.02      53.25\n",
       "58                Arif Saleh      FTI     100.00      59.79      55.33\n",
       "59     Windy Diwita Nisaekti      FTI      67.15      57.72      54.24"
      ],
      "text/html": [
       "<div>\n",
       "<style scoped>\n",
       "    .dataframe tbody tr th:only-of-type {\n",
       "        vertical-align: middle;\n",
       "    }\n",
       "\n",
       "    .dataframe tbody tr th {\n",
       "        vertical-align: top;\n",
       "    }\n",
       "\n",
       "    .dataframe thead th {\n",
       "        text-align: right;\n",
       "    }\n",
       "</style>\n",
       "<table border=\"1\" class=\"dataframe\">\n",
       "  <thead>\n",
       "    <tr style=\"text-align: right;\">\n",
       "      <th></th>\n",
       "      <th>nama</th>\n",
       "      <th>fakultas</th>\n",
       "      <th>nilai_mat</th>\n",
       "      <th>nilai_kim</th>\n",
       "      <th>nilai_fis</th>\n",
       "    </tr>\n",
       "  </thead>\n",
       "  <tbody>\n",
       "    <tr>\n",
       "      <th>49</th>\n",
       "      <td>Alief Rizky Ramadhan</td>\n",
       "      <td>SITHS</td>\n",
       "      <td>84.59</td>\n",
       "      <td>42.44</td>\n",
       "      <td>40.48</td>\n",
       "    </tr>\n",
       "    <tr>\n",
       "      <th>50</th>\n",
       "      <td>Arief Syakur Sutedjo</td>\n",
       "      <td>FTTM</td>\n",
       "      <td>84.40</td>\n",
       "      <td>61.21</td>\n",
       "      <td>73.91</td>\n",
       "    </tr>\n",
       "    <tr>\n",
       "      <th>51</th>\n",
       "      <td>Fayi Raihan Saleh</td>\n",
       "      <td>FMIPA</td>\n",
       "      <td>60.62</td>\n",
       "      <td>32.57</td>\n",
       "      <td>42.34</td>\n",
       "    </tr>\n",
       "    <tr>\n",
       "      <th>52</th>\n",
       "      <td>Erna Kristiawati</td>\n",
       "      <td>FTI</td>\n",
       "      <td>67.48</td>\n",
       "      <td>46.78</td>\n",
       "      <td>52.30</td>\n",
       "    </tr>\n",
       "    <tr>\n",
       "      <th>53</th>\n",
       "      <td>Albert</td>\n",
       "      <td>SAPPK</td>\n",
       "      <td>70.27</td>\n",
       "      <td>50.10</td>\n",
       "      <td>54.01</td>\n",
       "    </tr>\n",
       "    <tr>\n",
       "      <th>54</th>\n",
       "      <td>M Jazztyan Indra Pradana</td>\n",
       "      <td>STEI</td>\n",
       "      <td>53.40</td>\n",
       "      <td>43.06</td>\n",
       "      <td>60.30</td>\n",
       "    </tr>\n",
       "    <tr>\n",
       "      <th>55</th>\n",
       "      <td>Moch Ginanjar Busiri</td>\n",
       "      <td>FMIPA</td>\n",
       "      <td>74.29</td>\n",
       "      <td>38.44</td>\n",
       "      <td>49.15</td>\n",
       "    </tr>\n",
       "    <tr>\n",
       "      <th>56</th>\n",
       "      <td>Aisya Tamara</td>\n",
       "      <td>FITB</td>\n",
       "      <td>71.49</td>\n",
       "      <td>35.86</td>\n",
       "      <td>37.41</td>\n",
       "    </tr>\n",
       "    <tr>\n",
       "      <th>57</th>\n",
       "      <td>Tyas Arum Widayati</td>\n",
       "      <td>SAPPK</td>\n",
       "      <td>68.57</td>\n",
       "      <td>37.02</td>\n",
       "      <td>53.25</td>\n",
       "    </tr>\n",
       "    <tr>\n",
       "      <th>58</th>\n",
       "      <td>Arif Saleh</td>\n",
       "      <td>FTI</td>\n",
       "      <td>100.00</td>\n",
       "      <td>59.79</td>\n",
       "      <td>55.33</td>\n",
       "    </tr>\n",
       "    <tr>\n",
       "      <th>59</th>\n",
       "      <td>Windy Diwita Nisaekti</td>\n",
       "      <td>FTI</td>\n",
       "      <td>67.15</td>\n",
       "      <td>57.72</td>\n",
       "      <td>54.24</td>\n",
       "    </tr>\n",
       "  </tbody>\n",
       "</table>\n",
       "</div>"
      ]
     },
     "metadata": {},
     "execution_count": 4
    }
   ],
   "metadata": {}
  },
  {
   "cell_type": "code",
   "execution_count": 9,
   "source": [
    "# 4. Banyaknya mahasiswa tiap fakultas\r\n",
    "data['fakultas'].value_counts()"
   ],
   "outputs": [
    {
     "output_type": "execute_result",
     "data": {
      "text/plain": [
       "FTI      834\n",
       "STEI     777\n",
       "FTSL     660\n",
       "FMIPA    627\n",
       "FTTM     579\n",
       "FTMD     480\n",
       "FITB     403\n",
       "SAPPK    315\n",
       "SITHR    282\n",
       "SITHS    178\n",
       "Name: fakultas, dtype: int64"
      ]
     },
     "metadata": {},
     "execution_count": 9
    }
   ],
   "metadata": {}
  },
  {
   "cell_type": "code",
   "execution_count": 6,
   "source": [
    "data['nilai_fis'].corr(data['nilai_kim'])"
   ],
   "outputs": [
    {
     "output_type": "execute_result",
     "data": {
      "text/plain": [
       "0.7988187423880277"
      ]
     },
     "metadata": {},
     "execution_count": 6
    }
   ],
   "metadata": {}
  },
  {
   "cell_type": "markdown",
   "source": [
    "Nilai koefisien korelasi antara nilai fisika dengan nilai kimia adalah 0.79. Karena koefisien merupakan bilangan positif, maka kedua nilai tersebut berkorelasi secara lurus. Selain itu, korelasi memiliki nilai 0.79 yang dekat dengan nilai 1. Hal ini mengimplikasi kalau nilai fisika dan nilai kimia berkorelasi dengan kuat."
   ],
   "metadata": {}
  }
 ],
 "metadata": {
  "orig_nbformat": 4,
  "language_info": {
   "name": "python",
   "version": "3.8.8",
   "mimetype": "text/x-python",
   "codemirror_mode": {
    "name": "ipython",
    "version": 3
   },
   "pygments_lexer": "ipython3",
   "nbconvert_exporter": "python",
   "file_extension": ".py"
  },
  "kernelspec": {
   "name": "python3",
   "display_name": "Python 3.8.8 64-bit ('base': conda)"
  },
  "interpreter": {
   "hash": "b3ba2566441a7c06988d0923437866b63cedc61552a5af99d1f4fb67d367b25f"
  }
 },
 "nbformat": 4,
 "nbformat_minor": 2
}