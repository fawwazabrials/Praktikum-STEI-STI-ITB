{
 "cells": [
  {
   "cell_type": "code",
   "execution_count": 1,
   "source": [
    "# NIM/Nama  : 16521115/Fawwaz Abrial Saffa\r\n",
    "# Tanggal   : 29 November 2021"
   ],
   "outputs": [],
   "metadata": {}
  },
  {
   "cell_type": "code",
   "execution_count": 2,
   "source": [
    "import pandas as pd\r\n",
    "data = pd.read_csv('H05.csv')"
   ],
   "outputs": [],
   "metadata": {}
  },
  {
   "cell_type": "code",
   "execution_count": 9,
   "source": [
    "# 1. Nilai matematika. fisika, dan kimia milik Tuan Ric\r\n",
    "data.loc[data['nama'] == 'Tuan Ric']"
   ],
   "outputs": [
    {
     "output_type": "execute_result",
     "data": {
      "text/plain": [
       "          nama fakultas  nilai_mat  nilai_kim  nilai_fis\n",
       "3513  Tuan Ric     STEI      96.78      62.23      30.53"
      ],
      "text/html": [
       "<div>\n",
       "<style scoped>\n",
       "    .dataframe tbody tr th:only-of-type {\n",
       "        vertical-align: middle;\n",
       "    }\n",
       "\n",
       "    .dataframe tbody tr th {\n",
       "        vertical-align: top;\n",
       "    }\n",
       "\n",
       "    .dataframe thead th {\n",
       "        text-align: right;\n",
       "    }\n",
       "</style>\n",
       "<table border=\"1\" class=\"dataframe\">\n",
       "  <thead>\n",
       "    <tr style=\"text-align: right;\">\n",
       "      <th></th>\n",
       "      <th>nama</th>\n",
       "      <th>fakultas</th>\n",
       "      <th>nilai_mat</th>\n",
       "      <th>nilai_kim</th>\n",
       "      <th>nilai_fis</th>\n",
       "    </tr>\n",
       "  </thead>\n",
       "  <tbody>\n",
       "    <tr>\n",
       "      <th>3513</th>\n",
       "      <td>Tuan Ric</td>\n",
       "      <td>STEI</td>\n",
       "      <td>96.78</td>\n",
       "      <td>62.23</td>\n",
       "      <td>30.53</td>\n",
       "    </tr>\n",
       "  </tbody>\n",
       "</table>\n",
       "</div>"
      ]
     },
     "metadata": {},
     "execution_count": 9
    }
   ],
   "metadata": {}
  },
  {
   "cell_type": "code",
   "execution_count": 11,
   "source": [
    "# 2. Mahasiswa dengan nilai fisika tertinggi.\r\n",
    "data[data['nilai_fis'].max() == data['nilai_fis']]"
   ],
   "outputs": [
    {
     "output_type": "execute_result",
     "data": {
      "text/plain": [
       "                         nama fakultas  nilai_mat  nilai_kim  nilai_fis\n",
       "1936  Yuniar Fazriani Rusmana     FITB      53.61      67.19      92.57"
      ],
      "text/html": [
       "<div>\n",
       "<style scoped>\n",
       "    .dataframe tbody tr th:only-of-type {\n",
       "        vertical-align: middle;\n",
       "    }\n",
       "\n",
       "    .dataframe tbody tr th {\n",
       "        vertical-align: top;\n",
       "    }\n",
       "\n",
       "    .dataframe thead th {\n",
       "        text-align: right;\n",
       "    }\n",
       "</style>\n",
       "<table border=\"1\" class=\"dataframe\">\n",
       "  <thead>\n",
       "    <tr style=\"text-align: right;\">\n",
       "      <th></th>\n",
       "      <th>nama</th>\n",
       "      <th>fakultas</th>\n",
       "      <th>nilai_mat</th>\n",
       "      <th>nilai_kim</th>\n",
       "      <th>nilai_fis</th>\n",
       "    </tr>\n",
       "  </thead>\n",
       "  <tbody>\n",
       "    <tr>\n",
       "      <th>1936</th>\n",
       "      <td>Yuniar Fazriani Rusmana</td>\n",
       "      <td>FITB</td>\n",
       "      <td>53.61</td>\n",
       "      <td>67.19</td>\n",
       "      <td>92.57</td>\n",
       "    </tr>\n",
       "  </tbody>\n",
       "</table>\n",
       "</div>"
      ]
     },
     "metadata": {},
     "execution_count": 11
    }
   ],
   "metadata": {}
  },
  {
   "cell_type": "code",
   "execution_count": 12,
   "source": [
    "# 3. 10 Mahasiswa dengan nilai kimia tertinggi\r\n",
    "data.sort_values('nilai_kim', ascending=False)[0:10]"
   ],
   "outputs": [
    {
     "output_type": "execute_result",
     "data": {
      "text/plain": [
       "                          nama fakultas  nilai_mat  nilai_kim  nilai_fis\n",
       "2554      Faathir Reza Avicena     FTSL      57.12      81.50      78.68\n",
       "2779      Dinda A A Z Mundakir     STEI      41.18      81.34      82.60\n",
       "3544        Tammya Ayu Purnomo    SITHS      74.49      81.20      78.58\n",
       "4934    Alyssa Nadhira Windari     FTMD      78.38      78.83      78.68\n",
       "1137          Izni Nur Ibrahim     STEI      56.70      78.46      84.34\n",
       "2262      Rinaldi Oky Setiawan     STEI      71.22      77.44      83.66\n",
       "4070      Ias Azhari Rezkyarno    FMIPA      62.85      76.90      81.52\n",
       "2945           Klara Petra T T     FTSL      73.39      76.61      78.12\n",
       "1788  Naudy Germanimo Laksmana     FTMD      62.29      76.38      76.15\n",
       "1310       Mardliyahtur Rohmah     STEI      63.15      76.36      74.06"
      ],
      "text/html": [
       "<div>\n",
       "<style scoped>\n",
       "    .dataframe tbody tr th:only-of-type {\n",
       "        vertical-align: middle;\n",
       "    }\n",
       "\n",
       "    .dataframe tbody tr th {\n",
       "        vertical-align: top;\n",
       "    }\n",
       "\n",
       "    .dataframe thead th {\n",
       "        text-align: right;\n",
       "    }\n",
       "</style>\n",
       "<table border=\"1\" class=\"dataframe\">\n",
       "  <thead>\n",
       "    <tr style=\"text-align: right;\">\n",
       "      <th></th>\n",
       "      <th>nama</th>\n",
       "      <th>fakultas</th>\n",
       "      <th>nilai_mat</th>\n",
       "      <th>nilai_kim</th>\n",
       "      <th>nilai_fis</th>\n",
       "    </tr>\n",
       "  </thead>\n",
       "  <tbody>\n",
       "    <tr>\n",
       "      <th>2554</th>\n",
       "      <td>Faathir Reza Avicena</td>\n",
       "      <td>FTSL</td>\n",
       "      <td>57.12</td>\n",
       "      <td>81.50</td>\n",
       "      <td>78.68</td>\n",
       "    </tr>\n",
       "    <tr>\n",
       "      <th>2779</th>\n",
       "      <td>Dinda A A Z Mundakir</td>\n",
       "      <td>STEI</td>\n",
       "      <td>41.18</td>\n",
       "      <td>81.34</td>\n",
       "      <td>82.60</td>\n",
       "    </tr>\n",
       "    <tr>\n",
       "      <th>3544</th>\n",
       "      <td>Tammya Ayu Purnomo</td>\n",
       "      <td>SITHS</td>\n",
       "      <td>74.49</td>\n",
       "      <td>81.20</td>\n",
       "      <td>78.58</td>\n",
       "    </tr>\n",
       "    <tr>\n",
       "      <th>4934</th>\n",
       "      <td>Alyssa Nadhira Windari</td>\n",
       "      <td>FTMD</td>\n",
       "      <td>78.38</td>\n",
       "      <td>78.83</td>\n",
       "      <td>78.68</td>\n",
       "    </tr>\n",
       "    <tr>\n",
       "      <th>1137</th>\n",
       "      <td>Izni Nur Ibrahim</td>\n",
       "      <td>STEI</td>\n",
       "      <td>56.70</td>\n",
       "      <td>78.46</td>\n",
       "      <td>84.34</td>\n",
       "    </tr>\n",
       "    <tr>\n",
       "      <th>2262</th>\n",
       "      <td>Rinaldi Oky Setiawan</td>\n",
       "      <td>STEI</td>\n",
       "      <td>71.22</td>\n",
       "      <td>77.44</td>\n",
       "      <td>83.66</td>\n",
       "    </tr>\n",
       "    <tr>\n",
       "      <th>4070</th>\n",
       "      <td>Ias Azhari Rezkyarno</td>\n",
       "      <td>FMIPA</td>\n",
       "      <td>62.85</td>\n",
       "      <td>76.90</td>\n",
       "      <td>81.52</td>\n",
       "    </tr>\n",
       "    <tr>\n",
       "      <th>2945</th>\n",
       "      <td>Klara Petra T T</td>\n",
       "      <td>FTSL</td>\n",
       "      <td>73.39</td>\n",
       "      <td>76.61</td>\n",
       "      <td>78.12</td>\n",
       "    </tr>\n",
       "    <tr>\n",
       "      <th>1788</th>\n",
       "      <td>Naudy Germanimo Laksmana</td>\n",
       "      <td>FTMD</td>\n",
       "      <td>62.29</td>\n",
       "      <td>76.38</td>\n",
       "      <td>76.15</td>\n",
       "    </tr>\n",
       "    <tr>\n",
       "      <th>1310</th>\n",
       "      <td>Mardliyahtur Rohmah</td>\n",
       "      <td>STEI</td>\n",
       "      <td>63.15</td>\n",
       "      <td>76.36</td>\n",
       "      <td>74.06</td>\n",
       "    </tr>\n",
       "  </tbody>\n",
       "</table>\n",
       "</div>"
      ]
     },
     "metadata": {},
     "execution_count": 12
    }
   ],
   "metadata": {}
  },
  {
   "cell_type": "code",
   "execution_count": 16,
   "source": [
    "# 4. Banyaknya nilai matematika di bawah 50.\r\n",
    "len(data[data['nilai_mat'] < 50])"
   ],
   "outputs": [
    {
     "output_type": "execute_result",
     "data": {
      "text/plain": [
       "329"
      ]
     },
     "metadata": {},
     "execution_count": 16
    }
   ],
   "metadata": {}
  },
  {
   "cell_type": "code",
   "execution_count": 17,
   "source": [
    "# 5. Banyaknya mahasiswa FMIPA.\r\n",
    "data['fakultas'].value_counts()['FMIPA']"
   ],
   "outputs": [
    {
     "output_type": "execute_result",
     "data": {
      "text/plain": [
       "627"
      ]
     },
     "metadata": {},
     "execution_count": 17
    }
   ],
   "metadata": {}
  }
 ],
 "metadata": {
  "orig_nbformat": 4,
  "language_info": {
   "name": "python",
   "version": "3.8.8",
   "mimetype": "text/x-python",
   "codemirror_mode": {
    "name": "ipython",
    "version": 3
   },
   "pygments_lexer": "ipython3",
   "nbconvert_exporter": "python",
   "file_extension": ".py"
  },
  "kernelspec": {
   "name": "python3",
   "display_name": "Python 3.8.8 64-bit ('base': conda)"
  },
  "interpreter": {
   "hash": "b3ba2566441a7c06988d0923437866b63cedc61552a5af99d1f4fb67d367b25f"
  }
 },
 "nbformat": 4,
 "nbformat_minor": 2
}